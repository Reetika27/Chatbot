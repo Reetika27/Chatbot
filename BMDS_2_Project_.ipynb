{
  "nbformat": 4,
  "nbformat_minor": 0,
  "metadata": {
    "colab": {
      "name": "BMDS 2 Project .ipynb",
      "provenance": [],
      "collapsed_sections": []
    },
    "kernelspec": {
      "name": "python3",
      "display_name": "Python 3"
    },
    "language_info": {
      "name": "python"
    }
  },
  "cells": [
    {
      "cell_type": "code",
      "execution_count": 8,
      "metadata": {
        "colab": {
          "base_uri": "https://localhost:8080/"
        },
        "id": "WkJJ4FXfDs_-",
        "outputId": "83c2ea7c-4730-4a05-e263-1f2ea665154a"
      },
      "outputs": [
        {
          "output_type": "stream",
          "name": "stdout",
          "text": [
            "Requirement already satisfied: tensorflow==1.15 in /usr/local/lib/python3.7/dist-packages (1.15.0)\n",
            "Requirement already satisfied: keras-preprocessing>=1.0.5 in /usr/local/lib/python3.7/dist-packages (from tensorflow==1.15) (1.1.2)\n",
            "Requirement already satisfied: grpcio>=1.8.6 in /usr/local/lib/python3.7/dist-packages (from tensorflow==1.15) (1.44.0)\n",
            "Requirement already satisfied: absl-py>=0.7.0 in /usr/local/lib/python3.7/dist-packages (from tensorflow==1.15) (1.0.0)\n",
            "Requirement already satisfied: google-pasta>=0.1.6 in /usr/local/lib/python3.7/dist-packages (from tensorflow==1.15) (0.2.0)\n",
            "Requirement already satisfied: tensorflow-estimator==1.15.1 in /usr/local/lib/python3.7/dist-packages (from tensorflow==1.15) (1.15.1)\n",
            "Requirement already satisfied: six>=1.10.0 in /usr/local/lib/python3.7/dist-packages (from tensorflow==1.15) (1.15.0)\n",
            "Requirement already satisfied: gast==0.2.2 in /usr/local/lib/python3.7/dist-packages (from tensorflow==1.15) (0.2.2)\n",
            "Requirement already satisfied: protobuf>=3.6.1 in /usr/local/lib/python3.7/dist-packages (from tensorflow==1.15) (3.17.3)\n",
            "Requirement already satisfied: keras-applications>=1.0.8 in /usr/local/lib/python3.7/dist-packages (from tensorflow==1.15) (1.0.8)\n",
            "Requirement already satisfied: astor>=0.6.0 in /usr/local/lib/python3.7/dist-packages (from tensorflow==1.15) (0.8.1)\n",
            "Requirement already satisfied: termcolor>=1.1.0 in /usr/local/lib/python3.7/dist-packages (from tensorflow==1.15) (1.1.0)\n",
            "Requirement already satisfied: wrapt>=1.11.1 in /usr/local/lib/python3.7/dist-packages (from tensorflow==1.15) (1.14.0)\n",
            "Requirement already satisfied: wheel>=0.26 in /usr/local/lib/python3.7/dist-packages (from tensorflow==1.15) (0.37.1)\n",
            "Requirement already satisfied: tensorboard<1.16.0,>=1.15.0 in /usr/local/lib/python3.7/dist-packages (from tensorflow==1.15) (1.15.0)\n",
            "Requirement already satisfied: numpy<2.0,>=1.16.0 in /usr/local/lib/python3.7/dist-packages (from tensorflow==1.15) (1.21.6)\n",
            "Requirement already satisfied: opt-einsum>=2.3.2 in /usr/local/lib/python3.7/dist-packages (from tensorflow==1.15) (3.3.0)\n",
            "Requirement already satisfied: h5py in /usr/local/lib/python3.7/dist-packages (from keras-applications>=1.0.8->tensorflow==1.15) (3.1.0)\n",
            "Requirement already satisfied: markdown>=2.6.8 in /usr/local/lib/python3.7/dist-packages (from tensorboard<1.16.0,>=1.15.0->tensorflow==1.15) (3.3.6)\n",
            "Requirement already satisfied: setuptools>=41.0.0 in /usr/local/lib/python3.7/dist-packages (from tensorboard<1.16.0,>=1.15.0->tensorflow==1.15) (57.4.0)\n",
            "Requirement already satisfied: werkzeug>=0.11.15 in /usr/local/lib/python3.7/dist-packages (from tensorboard<1.16.0,>=1.15.0->tensorflow==1.15) (1.0.1)\n",
            "Requirement already satisfied: importlib-metadata>=4.4 in /usr/local/lib/python3.7/dist-packages (from markdown>=2.6.8->tensorboard<1.16.0,>=1.15.0->tensorflow==1.15) (4.11.3)\n",
            "Requirement already satisfied: typing-extensions>=3.6.4 in /usr/local/lib/python3.7/dist-packages (from importlib-metadata>=4.4->markdown>=2.6.8->tensorboard<1.16.0,>=1.15.0->tensorflow==1.15) (4.2.0)\n",
            "Requirement already satisfied: zipp>=0.5 in /usr/local/lib/python3.7/dist-packages (from importlib-metadata>=4.4->markdown>=2.6.8->tensorboard<1.16.0,>=1.15.0->tensorflow==1.15) (3.8.0)\n",
            "Requirement already satisfied: cached-property in /usr/local/lib/python3.7/dist-packages (from h5py->keras-applications>=1.0.8->tensorflow==1.15) (1.5.2)\n"
          ]
        }
      ],
      "source": [
        "!pip install tensorflow==1.15"
      ]
    },
    {
      "cell_type": "code",
      "source": [
        "import pandas as pd\n",
        "import numpy as np\n",
        "import matplotlib.pyplot as plt\n",
        "import seaborn as sns\n",
        "import tensorflow as tf\n",
        "import re\n",
        "import os\n",
        "import nltk\n",
        "from nltk.corpus import stopwords\n",
        "from nltk.tokenize import word_tokenize\n",
        "from nltk import pos_tag\n",
        "from nltk.stem import WordNetLemmatizer\n",
        "from sklearn.preprocessing import LabelEncoder\n",
        "from sklearn.model_selection import train_test_split\n",
        "from sklearn import metrics\n",
        "from tensorflow.keras.models import Sequential\n",
        "from tensorflow.keras.layers import Dense, LSTM, Embedding, Bidirectional, Flatten\n",
        "from tensorflow.compat.v1.keras.layers import CuDNNLSTM\n",
        "from tensorflow.keras.layers import Dropout, SimpleRNN\n",
        "from tensorflow.keras.utils import to_categorical\n",
        "from tensorflow.keras.preprocessing.text import Tokenizer\n",
        "from tensorflow.keras.preprocessing.sequence import pad_sequences"
      ],
      "metadata": {
        "id": "beiMZk7VEJ5G"
      },
      "execution_count": 1,
      "outputs": []
    },
    {
      "cell_type": "code",
      "source": [
        "# Loading files\n",
        "dataset1 = pd.read_csv(\"/content/sample_data/Emotion_final.csv\")\n",
        "dataset2 = pd.read_csv(\"/content/sample_data/text_emotion.csv\")"
      ],
      "metadata": {
        "id": "bMDGnriqJOHw"
      },
      "execution_count": 2,
      "outputs": []
    },
    {
      "cell_type": "code",
      "source": [
        "print(dataset1.shape, dataset2.shape)"
      ],
      "metadata": {
        "colab": {
          "base_uri": "https://localhost:8080/"
        },
        "id": "ITopcJ0kKd4R",
        "outputId": "a9bb40d2-0ba3-48c6-87f4-3b3dbf636360"
      },
      "execution_count": 3,
      "outputs": [
        {
          "output_type": "stream",
          "name": "stdout",
          "text": [
            "(21459, 2) (40000, 4)\n"
          ]
        }
      ]
    },
    {
      "cell_type": "code",
      "source": [
        "dataset2 = dataset2.drop(columns=[\"tweet_id\", \"author\"])\n",
        "dataset2 = dataset2[['content', 'sentiment']]\n",
        "dataset2 = dataset2.rename(columns={\"content\" : \"Text\", \"sentiment\": \"Emotion\"})"
      ],
      "metadata": {
        "id": "qxAHgUYhKd8L"
      },
      "execution_count": 4,
      "outputs": []
    },
    {
      "cell_type": "code",
      "source": [
        "# Merging datasets\n",
        "\n",
        "final_dataset = dataset1.append(dataset2, ignore_index=True)\n",
        "print(final_dataset.shape)"
      ],
      "metadata": {
        "colab": {
          "base_uri": "https://localhost:8080/"
        },
        "id": "vEFfuYzPKd_N",
        "outputId": "0a94b4fb-eda6-4d06-d80b-6d5df79a0582"
      },
      "execution_count": 5,
      "outputs": [
        {
          "output_type": "stream",
          "name": "stdout",
          "text": [
            "(61459, 2)\n"
          ]
        }
      ]
    },
    {
      "cell_type": "code",
      "source": [
        "plt.figure(figsize=(15,5))\n",
        "sns.countplot(x='Emotion', data=final_dataset)\n",
        "plt.show()"
      ],
      "metadata": {
        "colab": {
          "base_uri": "https://localhost:8080/",
          "height": 338
        },
        "id": "UMstnQsvKeCC",
        "outputId": "2ca55c16-3d3f-460e-cbc2-f95ea699f49e"
      },
      "execution_count": 6,
      "outputs": [
        {
          "output_type": "display_data",
          "data": {
            "text/plain": [
              "<Figure size 1080x360 with 1 Axes>"
            ],
            "image/png": "[encoded data removed]"
          },
          "metadata": {
            "needs_background": "light"
          }
        }
      ]
    },
    {
      "cell_type": "code",
      "source": [
        "# Preprocessing\n",
        "lemmatizer = WordNetLemmatizer()"
      ],
      "metadata": {
        "id": "SZNSC1ezKeEu"
      },
      "execution_count": 7,
      "outputs": []
    },
    {
      "cell_type": "code",
      "source": [
        "def cleanSentence(sentence):\n",
        "    sentence = re.sub(r\"[?.,!><{}()%]+\", ' ', sentence)\n",
        "    sentence = re.sub(r\"^@[a-zA-Z0-9]+\", ' ', sentence)\n",
        "    sentence = re.sub(r\"_\", ' ', sentence)\n",
        "    sentence = re.sub(r\"https?://[A-Za-z0-9./]+\", ' ', sentence)\n",
        "    sentence = sentence.strip()\n",
        "    sentence = sentence.lower()\n",
        "    return sentence\n"
      ],
      "metadata": {
        "id": "iscfg7BPKeHy"
      },
      "execution_count": 8,
      "outputs": []
    },
    {
      "cell_type": "code",
      "source": [
        "def preprocess(sentence):\n",
        "    sentence = re.sub(r\"won't\", \"will not\", sentence)\n",
        "    sentence = re.sub(r\"can\\'t\", \"cannot\", sentence)\n",
        "    sentence = re.sub(r\"\\'m\", \"am\", sentence)\n",
        "    sentence = re.sub(r\"\\'s\", \"is\", sentence)\n",
        "    sentence = re.sub(r\"\\'re\", \"are\", sentence)\n",
        "    sentence = re.sub(r\"n\\'t\", \"not\", sentence)\n",
        "    sentence = re.sub(r\"\\'t\", \"not\", sentence)\n",
        "    sentence = re.sub(r\"\\'ve\", \"have\", sentence)\n",
        "    sentence = re.sub(r\"\\'d\", \"would\", sentence)\n",
        "    sentence = re.sub(r\"\\'ll\", \"will\", sentence)\n",
        "    words = word_tokenize(sentence)\n",
        "    words_clean = [word for word in words if word not in stopwords.words('english')]\n",
        "    return words_clean\n",
        "\n",
        "def lemmatizeAndPOStagging(tokens):\n",
        "    words_pos_dict = pos_tag(tokens)\n",
        "    tokens_final = []\n",
        "    for word, tag in words_pos_dict:\n",
        "        word_tag = tag[0].lower()\n",
        "        if word_tag in ['a', 'r', 'v', 'n']:\n",
        "            tokens_final.append(lemmatizer.lemmatize(word, word_tag))\n",
        "        else:\n",
        "            tokens_final.append(word)\n",
        "    return tokens_final\n",
        "\n",
        "def preprocessingWrapper(sentence):\n",
        "    sentence = cleanSentence(sentence)\n",
        "    tokens = preprocess(sentence)\n",
        "    tokens = lemmatizeAndPOStagging(tokens)\n",
        "    return tokens"
      ],
      "metadata": {
        "id": "TC3aF-k1KeKl"
      },
      "execution_count": 9,
      "outputs": []
    },
    {
      "cell_type": "code",
      "source": [
        " nltk.download('all')"
      ],
      "metadata": {
        "colab": {
          "base_uri": "https://localhost:8080/"
        },
        "id": "lE_NFtZUQXQ4",
        "outputId": "16edce53-2410-43ca-8a0c-593db23d8b32"
      },
      "execution_count": 10,
      "outputs": [
        {
          "output_type": "stream",
          "name": "stdout",
          "text": [
            "[nltk_data] Downloading collection 'all'\n",
            "[nltk_data]    | \n",
            "[nltk_data]    | Downloading package abc to /root/nltk_data...\n",
            "[nltk_data]    |   Package abc is already up-to-date!\n",
            "[nltk_data]    | Downloading package alpino to /root/nltk_data...\n",
            "[nltk_data]    |   Package alpino is already up-to-date!\n",
            "[nltk_data]    | Downloading package averaged_perceptron_tagger to\n",
            "[nltk_data]    |     /root/nltk_data...\n",
            "[nltk_data]    |   Package averaged_perceptron_tagger is already up-\n",
            "[nltk_data]    |       to-date!\n",
            "[nltk_data]    | Downloading package averaged_perceptron_tagger_ru to\n",
            "[nltk_data]    |     /root/nltk_data...\n",
            "[nltk_data]    |   Package averaged_perceptron_tagger_ru is already\n",
            "[nltk_data]    |       up-to-date!\n",
            "[nltk_data]    | Downloading package basque_grammars to\n",
            "[nltk_data]    |     /root/nltk_data...\n",
            "[nltk_data]    |   Package basque_grammars is already up-to-date!\n",
            "[nltk_data]    | Downloading package biocreative_ppi to\n",
            "[nltk_data]    |     /root/nltk_data...\n",
            "[nltk_data]    |   Package biocreative_ppi is already up-to-date!\n",
            "[nltk_data]    | Downloading package bllip_wsj_no_aux to\n",
            "[nltk_data]    |     /root/nltk_data...\n",
            "[nltk_data]    |   Package bllip_wsj_no_aux is already up-to-date!\n",
            "[nltk_data]    | Downloading package book_grammars to\n",
            "[nltk_data]    |     /root/nltk_data...\n",
            "[nltk_data]    |   Package book_grammars is already up-to-date!\n",
            "[nltk_data]    | Downloading package brown to /root/nltk_data...\n",
            "[nltk_data]    |   Package brown is already up-to-date!\n",
            "[nltk_data]    | Downloading package brown_tei to /root/nltk_data...\n",
            "[nltk_data]    |   Package brown_tei is already up-to-date!\n",
            "[nltk_data]    | Downloading package cess_cat to /root/nltk_data...\n",
            "[nltk_data]    |   Package cess_cat is already up-to-date!\n",
            "[nltk_data]    | Downloading package cess_esp to /root/nltk_data...\n",
            "[nltk_data]    |   Package cess_esp is already up-to-date!\n",
            "[nltk_data]    | Downloading package chat80 to /root/nltk_data...\n",
            "[nltk_data]    |   Package chat80 is already up-to-date!\n",
            "[nltk_data]    | Downloading package city_database to\n",
            "[nltk_data]    |     /root/nltk_data...\n",
            "[nltk_data]    |   Package city_database is already up-to-date!\n",
            "[nltk_data]    | Downloading package cmudict to /root/nltk_data...\n",
            "[nltk_data]    |   Package cmudict is already up-to-date!\n",
            "[nltk_data]    | Downloading package comparative_sentences to\n",
            "[nltk_data]    |     /root/nltk_data...\n",
            "[nltk_data]    |   Package comparative_sentences is already up-to-\n",
            "[nltk_data]    |       date!\n",
            "[nltk_data]    | Downloading package comtrans to /root/nltk_data...\n",
            "[nltk_data]    |   Package comtrans is already up-to-date!\n",
            "[nltk_data]    | Downloading package conll2000 to /root/nltk_data...\n",
            "[nltk_data]    |   Package conll2000 is already up-to-date!\n",
            "[nltk_data]    | Downloading package conll2002 to /root/nltk_data...\n",
            "[nltk_data]    |   Package conll2002 is already up-to-date!\n",
            "[nltk_data]    | Downloading package conll2007 to /root/nltk_data...\n",
            "[nltk_data]    |   Package conll2007 is already up-to-date!\n",
            "[nltk_data]    | Downloading package crubadan to /root/nltk_data...\n",
            "[nltk_data]    |   Package crubadan is already up-to-date!\n",
            "[nltk_data]    | Downloading package dependency_treebank to\n",
            "[nltk_data]    |     /root/nltk_data...\n",
            "[nltk_data]    |   Package dependency_treebank is already up-to-date!\n",
            "[nltk_data]    | Downloading package dolch to /root/nltk_data...\n",
            "[nltk_data]    |   Package dolch is already up-to-date!\n",
            "[nltk_data]    | Downloading package europarl_raw to\n",
            "[nltk_data]    |     /root/nltk_data...\n",
            "[nltk_data]    |   Package europarl_raw is already up-to-date!\n",
            "[nltk_data]    | Downloading package extended_omw to\n",
            "[nltk_data]    |     /root/nltk_data...\n",
            "[nltk_data]    |   Package extended_omw is already up-to-date!\n",
            "[nltk_data]    | Downloading package floresta to /root/nltk_data...\n",
            "[nltk_data]    |   Package floresta is already up-to-date!\n",
            "[nltk_data]    | Downloading package framenet_v15 to\n",
            "[nltk_data]    |     /root/nltk_data...\n",
            "[nltk_data]    |   Package framenet_v15 is already up-to-date!\n",
            "[nltk_data]    | Downloading package framenet_v17 to\n",
            "[nltk_data]    |     /root/nltk_data...\n",
            "[nltk_data]    |   Package framenet_v17 is already up-to-date!\n",
            "[nltk_data]    | Downloading package gazetteers to /root/nltk_data...\n",
            "[nltk_data]    |   Package gazetteers is already up-to-date!\n",
            "[nltk_data]    | Downloading package genesis to /root/nltk_data...\n",
            "[nltk_data]    |   Package genesis is already up-to-date!\n",
            "[nltk_data]    | Downloading package gutenberg to /root/nltk_data...\n",
            "[nltk_data]    |   Package gutenberg is already up-to-date!\n",
            "[nltk_data]    | Downloading package ieer to /root/nltk_data...\n",
            "[nltk_data]    |   Package ieer is already up-to-date!\n",
            "[nltk_data]    | Downloading package inaugural to /root/nltk_data...\n",
            "[nltk_data]    |   Package inaugural is already up-to-date!\n",
            "[nltk_data]    | Downloading package indian to /root/nltk_data...\n",
            "[nltk_data]    |   Package indian is already up-to-date!\n",
            "[nltk_data]    | Downloading package jeita to /root/nltk_data...\n",
            "[nltk_data]    |   Package jeita is already up-to-date!\n",
            "[nltk_data]    | Downloading package kimmo to /root/nltk_data...\n",
            "[nltk_data]    |   Package kimmo is already up-to-date!\n",
            "[nltk_data]    | Downloading package knbc to /root/nltk_data...\n",
            "[nltk_data]    |   Package knbc is already up-to-date!\n",
            "[nltk_data]    | Downloading package large_grammars to\n",
            "[nltk_data]    |     /root/nltk_data...\n",
            "[nltk_data]    |   Package large_grammars is already up-to-date!\n",
            "[nltk_data]    | Downloading package lin_thesaurus to\n",
            "[nltk_data]    |     /root/nltk_data...\n",
            "[nltk_data]    |   Package lin_thesaurus is already up-to-date!\n",
            "[nltk_data]    | Downloading package mac_morpho to /root/nltk_data...\n",
            "[nltk_data]    |   Package mac_morpho is already up-to-date!\n",
            "[nltk_data]    | Downloading package machado to /root/nltk_data...\n",
            "[nltk_data]    |   Package machado is already up-to-date!\n",
            "[nltk_data]    | Downloading package masc_tagged to /root/nltk_data...\n",
            "[nltk_data]    |   Package masc_tagged is already up-to-date!\n",
            "[nltk_data]    | Downloading package maxent_ne_chunker to\n",
            "[nltk_data]    |     /root/nltk_data...\n",
            "[nltk_data]    |   Package maxent_ne_chunker is already up-to-date!\n",
            "[nltk_data]    | Downloading package maxent_treebank_pos_tagger to\n",
            "[nltk_data]    |     /root/nltk_data...\n",
            "[nltk_data]    |   Package maxent_treebank_pos_tagger is already up-\n",
            "[nltk_data]    |       to-date!\n",
            "[nltk_data]    | Downloading package moses_sample to\n",
            "[nltk_data]    |     /root/nltk_data...\n",
            "[nltk_data]    |   Package moses_sample is already up-to-date!\n",
            "[nltk_data]    | Downloading package movie_reviews to\n",
            "[nltk_data]    |     /root/nltk_data...\n",
            "[nltk_data]    |   Package movie_reviews is already up-to-date!\n",
            "[nltk_data]    | Downloading package mte_teip5 to /root/nltk_data...\n",
            "[nltk_data]    |   Package mte_teip5 is already up-to-date!\n",
            "[nltk_data]    | Downloading package mwa_ppdb to /root/nltk_data...\n",
            "[nltk_data]    |   Package mwa_ppdb is already up-to-date!\n",
            "[nltk_data]    | Downloading package names to /root/nltk_data...\n",
            "[nltk_data]    |   Package names is already up-to-date!\n",
            "[nltk_data]    | Downloading package nombank.1.0 to /root/nltk_data...\n",
            "[nltk_data]    |   Package nombank.1.0 is already up-to-date!\n",
            "[nltk_data]    | Downloading package nonbreaking_prefixes to\n",
            "[nltk_data]    |     /root/nltk_data...\n",
            "[nltk_data]    |   Package nonbreaking_prefixes is already up-to-date!\n",
            "[nltk_data]    | Downloading package nps_chat to /root/nltk_data...\n",
            "[nltk_data]    |   Package nps_chat is already up-to-date!\n",
            "[nltk_data]    | Downloading package omw to /root/nltk_data...\n",
            "[nltk_data]    |   Package omw is already up-to-date!\n",
            "[nltk_data]    | Downloading package omw-1.4 to /root/nltk_data...\n",
            "[nltk_data]    |   Package omw-1.4 is already up-to-date!\n",
            "[nltk_data]    | Downloading package opinion_lexicon to\n",
            "[nltk_data]    |     /root/nltk_data...\n",
            "[nltk_data]    |   Package opinion_lexicon is already up-to-date!\n",
            "[nltk_data]    | Downloading package panlex_swadesh to\n",
            "[nltk_data]    |     /root/nltk_data...\n",
            "[nltk_data]    |   Package panlex_swadesh is already up-to-date!\n",
            "[nltk_data]    | Downloading package paradigms to /root/nltk_data...\n",
            "[nltk_data]    |   Package paradigms is already up-to-date!\n",
            "[nltk_data]    | Downloading package pe08 to /root/nltk_data...\n",
            "[nltk_data]    |   Package pe08 is already up-to-date!\n",
            "[nltk_data]    | Downloading package perluniprops to\n",
            "[nltk_data]    |     /root/nltk_data...\n",
            "[nltk_data]    |   Package perluniprops is already up-to-date!\n",
            "[nltk_data]    | Downloading package pil to /root/nltk_data...\n",
            "[nltk_data]    |   Package pil is already up-to-date!\n",
            "[nltk_data]    | Downloading package pl196x to /root/nltk_data...\n",
            "[nltk_data]    |   Package pl196x is already up-to-date!\n",
            "[nltk_data]    | Downloading package porter_test to /root/nltk_data...\n",
            "[nltk_data]    |   Package porter_test is already up-to-date!\n",
            "[nltk_data]    | Downloading package ppattach to /root/nltk_data...\n",
            "[nltk_data]    |   Package ppattach is already up-to-date!\n",
            "[nltk_data]    | Downloading package problem_reports to\n",
            "[nltk_data]    |     /root/nltk_data...\n",
            "[nltk_data]    |   Package problem_reports is already up-to-date!\n",
            "[nltk_data]    | Downloading package product_reviews_1 to\n",
            "[nltk_data]    |     /root/nltk_data...\n",
            "[nltk_data]    |   Package product_reviews_1 is already up-to-date!\n",
            "[nltk_data]    | Downloading package product_reviews_2 to\n",
            "[nltk_data]    |     /root/nltk_data...\n",
            "[nltk_data]    |   Package product_reviews_2 is already up-to-date!\n",
            "[nltk_data]    | Downloading package propbank to /root/nltk_data...\n",
            "[nltk_data]    |   Package propbank is already up-to-date!\n",
            "[nltk_data]    | Downloading package pros_cons to /root/nltk_data...\n",
            "[nltk_data]    |   Package pros_cons is already up-to-date!\n",
            "[nltk_data]    | Downloading package ptb to /root/nltk_data...\n",
            "[nltk_data]    |   Package ptb is already up-to-date!\n",
            "[nltk_data]    | Downloading package punkt to /root/nltk_data...\n",
            "[nltk_data]    |   Package punkt is already up-to-date!\n",
            "[nltk_data]    | Downloading package qc to /root/nltk_data...\n",
            "[nltk_data]    |   Package qc is already up-to-date!\n",
            "[nltk_data]    | Downloading package reuters to /root/nltk_data...\n",
            "[nltk_data]    |   Package reuters is already up-to-date!\n",
            "[nltk_data]    | Downloading package rslp to /root/nltk_data...\n",
            "[nltk_data]    |   Package rslp is already up-to-date!\n",
            "[nltk_data]    | Downloading package rte to /root/nltk_data...\n",
            "[nltk_data]    |   Package rte is already up-to-date!\n",
            "[nltk_data]    | Downloading package sample_grammars to\n",
            "[nltk_data]    |     /root/nltk_data...\n",
            "[nltk_data]    |   Package sample_grammars is already up-to-date!\n",
            "[nltk_data]    | Downloading package semcor to /root/nltk_data...\n",
            "[nltk_data]    |   Package semcor is already up-to-date!\n",
            "[nltk_data]    | Downloading package senseval to /root/nltk_data...\n",
            "[nltk_data]    |   Package senseval is already up-to-date!\n",
            "[nltk_data]    | Downloading package sentence_polarity to\n",
            "[nltk_data]    |     /root/nltk_data...\n",
            "[nltk_data]    |   Package sentence_polarity is already up-to-date!\n",
            "[nltk_data]    | Downloading package sentiwordnet to\n",
            "[nltk_data]    |     /root/nltk_data...\n",
            "[nltk_data]    |   Package sentiwordnet is already up-to-date!\n",
            "[nltk_data]    | Downloading package shakespeare to /root/nltk_data...\n",
            "[nltk_data]    |   Package shakespeare is already up-to-date!\n",
            "[nltk_data]    | Downloading package sinica_treebank to\n",
            "[nltk_data]    |     /root/nltk_data...\n",
            "[nltk_data]    |   Package sinica_treebank is already up-to-date!\n",
            "[nltk_data]    | Downloading package smultron to /root/nltk_data...\n",
            "[nltk_data]    |   Package smultron is already up-to-date!\n",
            "[nltk_data]    | Downloading package snowball_data to\n",
            "[nltk_data]    |     /root/nltk_data...\n",
            "[nltk_data]    |   Package snowball_data is already up-to-date!\n",
            "[nltk_data]    | Downloading package spanish_grammars to\n",
            "[nltk_data]    |     /root/nltk_data...\n",
            "[nltk_data]    |   Package spanish_grammars is already up-to-date!\n",
            "[nltk_data]    | Downloading package state_union to /root/nltk_data...\n",
            "[nltk_data]    |   Package state_union is already up-to-date!\n",
            "[nltk_data]    | Downloading package stopwords to /root/nltk_data...\n",
            "[nltk_data]    |   Package stopwords is already up-to-date!\n",
            "[nltk_data]    | Downloading package subjectivity to\n",
            "[nltk_data]    |     /root/nltk_data...\n",
            "[nltk_data]    |   Package subjectivity is already up-to-date!\n",
            "[nltk_data]    | Downloading package swadesh to /root/nltk_data...\n",
            "[nltk_data]    |   Package swadesh is already up-to-date!\n",
            "[nltk_data]    | Downloading package switchboard to /root/nltk_data...\n",
            "[nltk_data]    |   Package switchboard is already up-to-date!\n",
            "[nltk_data]    | Downloading package tagsets to /root/nltk_data...\n",
            "[nltk_data]    |   Package tagsets is already up-to-date!\n",
            "[nltk_data]    | Downloading package timit to /root/nltk_data...\n",
            "[nltk_data]    |   Package timit is already up-to-date!\n",
            "[nltk_data]    | Downloading package toolbox to /root/nltk_data...\n",
            "[nltk_data]    |   Package toolbox is already up-to-date!\n",
            "[nltk_data]    | Downloading package treebank to /root/nltk_data...\n",
            "[nltk_data]    |   Package treebank is already up-to-date!\n",
            "[nltk_data]    | Downloading package twitter_samples to\n",
            "[nltk_data]    |     /root/nltk_data...\n",
            "[nltk_data]    |   Package twitter_samples is already up-to-date!\n",
            "[nltk_data]    | Downloading package udhr to /root/nltk_data...\n",
            "[nltk_data]    |   Package udhr is already up-to-date!\n",
            "[nltk_data]    | Downloading package udhr2 to /root/nltk_data...\n",
            "[nltk_data]    |   Package udhr2 is already up-to-date!\n",
            "[nltk_data]    | Downloading package unicode_samples to\n",
            "[nltk_data]    |     /root/nltk_data...\n",
            "[nltk_data]    |   Package unicode_samples is already up-to-date!\n",
            "[nltk_data]    | Downloading package universal_tagset to\n",
            "[nltk_data]    |     /root/nltk_data...\n",
            "[nltk_data]    |   Package universal_tagset is already up-to-date!\n",
            "[nltk_data]    | Downloading package universal_treebanks_v20 to\n",
            "[nltk_data]    |     /root/nltk_data...\n",
            "[nltk_data]    |   Package universal_treebanks_v20 is already up-to-\n",
            "[nltk_data]    |       date!\n",
            "[nltk_data]    | Downloading package vader_lexicon to\n",
            "[nltk_data]    |     /root/nltk_data...\n",
            "[nltk_data]    |   Package vader_lexicon is already up-to-date!\n",
            "[nltk_data]    | Downloading package verbnet to /root/nltk_data...\n",
            "[nltk_data]    |   Package verbnet is already up-to-date!\n",
            "[nltk_data]    | Downloading package verbnet3 to /root/nltk_data...\n",
            "[nltk_data]    |   Package verbnet3 is already up-to-date!\n",
            "[nltk_data]    | Downloading package webtext to /root/nltk_data...\n",
            "[nltk_data]    |   Package webtext is already up-to-date!\n",
            "[nltk_data]    | Downloading package wmt15_eval to /root/nltk_data...\n",
            "[nltk_data]    |   Package wmt15_eval is already up-to-date!\n",
            "[nltk_data]    | Downloading package word2vec_sample to\n",
            "[nltk_data]    |     /root/nltk_data...\n",
            "[nltk_data]    |   Package word2vec_sample is already up-to-date!\n",
            "[nltk_data]    | Downloading package wordnet to /root/nltk_data...\n",
            "[nltk_data]    |   Package wordnet is already up-to-date!\n",
            "[nltk_data]    | Downloading package wordnet2021 to /root/nltk_data...\n",
            "[nltk_data]    |   Package wordnet2021 is already up-to-date!\n",
            "[nltk_data]    | Downloading package wordnet31 to /root/nltk_data...\n",
            "[nltk_data]    |   Package wordnet31 is already up-to-date!\n",
            "[nltk_data]    | Downloading package wordnet_ic to /root/nltk_data...\n",
            "[nltk_data]    |   Package wordnet_ic is already up-to-date!\n",
            "[nltk_data]    | Downloading package words to /root/nltk_data...\n",
            "[nltk_data]    |   Package words is already up-to-date!\n",
            "[nltk_data]    | Downloading package ycoe to /root/nltk_data...\n",
            "[nltk_data]    |   Package ycoe is already up-to-date!\n",
            "[nltk_data]    | \n",
            "[nltk_data]  Done downloading collection all\n"
          ]
        },
        {
          "output_type": "execute_result",
          "data": {
            "text/plain": [
              "True"
            ]
          },
          "metadata": {},
          "execution_count": 10
        }
      ]
    },
    {
      "cell_type": "code",
      "source": [
        "final_dataset['tokens'] = final_dataset['Text'].apply(lambda sent : preprocessingWrapper(sent))"
      ],
      "metadata": {
        "id": "xVEbnsGhKeN7"
      },
      "execution_count": 11,
      "outputs": []
    },
    {
      "cell_type": "code",
      "source": [
        "final_dataset"
      ],
      "metadata": {
        "colab": {
          "base_uri": "https://localhost:8080/",
          "height": 424
        },
        "id": "mJL1yYJwSs4z",
        "outputId": "53f3eeec-845c-4436-d4b6-55576470f6e6"
      },
      "execution_count": 12,
      "outputs": [
        {
          "output_type": "execute_result",
          "data": {
            "text/plain": [
              "                                                    Text    Emotion  \\\n",
              "0                                i didnt feel humiliated    sadness   \n",
              "1      i can go from feeling so hopeless to so damned...    sadness   \n",
              "2       im grabbing a minute to post i feel greedy wrong      anger   \n",
              "3      i am ever feeling nostalgic about the fireplac...       love   \n",
              "4                                   i am feeling grouchy      anger   \n",
              "...                                                  ...        ...   \n",
              "61454                                   @JohnLloydTaylor    neutral   \n",
              "61455                     Happy Mothers Day  All my love       love   \n",
              "61456  Happy Mother's Day to all the mommies out ther...       love   \n",
              "61457  @niariley WASSUP BEAUTIFUL!!! FOLLOW ME!!  PEE...  happiness   \n",
              "61458  @mopedronin bullet train from tokyo    the gf ...       love   \n",
              "\n",
              "                                                  tokens  \n",
              "0                               [didnt, feel, humiliate]  \n",
              "1      [go, feeling, hopeless, damn, hopeful, around,...  \n",
              "2          [im, grab, minute, post, feel, greedy, wrong]  \n",
              "3      [ever, feel, nostalgic, fireplace, know, still...  \n",
              "4                                        [feel, grouchy]  \n",
              "...                                                  ...  \n",
              "61454                                                 []  \n",
              "61455                         [happy, mother, day, love]  \n",
              "61456  [happy, motheris, day, mommy, woman, man, long...  \n",
              "61457  [wassup, beautiful, follow, peep, new, hit, si...  \n",
              "61458  [bullet, train, tokyo, gf, visit, japan, since...  \n",
              "\n",
              "[61459 rows x 3 columns]"
            ],
            "text/html": [
              "\n",
              "  <div id=\"df-14f61de9-48b8-467f-8897-d15dce116630\">\n",
              "    <div class=\"colab-df-container\">\n",
              "      <div>\n",
              "<style scoped>\n",
              "    .dataframe tbody tr th:only-of-type {\n",
              "        vertical-align: middle;\n",
              "    }\n",
              "\n",
              "    .dataframe tbody tr th {\n",
              "        vertical-align: top;\n",
              "    }\n",
              "\n",
              "    .dataframe thead th {\n",
              "        text-align: right;\n",
              "    }\n",
              "</style>\n",
              "<table border=\"1\" class=\"dataframe\">\n",
              "  <thead>\n",
              "    <tr style=\"text-align: right;\">\n",
              "      <th></th>\n",
              "      <th>Text</th>\n",
              "      <th>Emotion</th>\n",
              "      <th>tokens</th>\n",
              "    </tr>\n",
              "  </thead>\n",
              "  <tbody>\n",
              "    <tr>\n",
              "      <th>0</th>\n",
              "      <td>i didnt feel humiliated</td>\n",
              "      <td>sadness</td>\n",
              "      <td>[didnt, feel, humiliate]</td>\n",
              "    </tr>\n",
              "    <tr>\n",
              "      <th>1</th>\n",
              "      <td>i can go from feeling so hopeless to so damned...</td>\n",
              "      <td>sadness</td>\n",
              "      <td>[go, feeling, hopeless, damn, hopeful, around,...</td>\n",
              "    </tr>\n",
              "    <tr>\n",
              "      <th>2</th>\n",
              "      <td>im grabbing a minute to post i feel greedy wrong</td>\n",
              "      <td>anger</td>\n",
              "      <td>[im, grab, minute, post, feel, greedy, wrong]</td>\n",
              "    </tr>\n",
              "    <tr>\n",
              "      <th>3</th>\n",
              "      <td>i am ever feeling nostalgic about the fireplac...</td>\n",
              "      <td>love</td>\n",
              "      <td>[ever, feel, nostalgic, fireplace, know, still...</td>\n",
              "    </tr>\n",
              "    <tr>\n",
              "      <th>4</th>\n",
              "      <td>i am feeling grouchy</td>\n",
              "      <td>anger</td>\n",
              "      <td>[feel, grouchy]</td>\n",
              "    </tr>\n",
              "    <tr>\n",
              "      <th>...</th>\n",
              "      <td>...</td>\n",
              "      <td>...</td>\n",
              "      <td>...</td>\n",
              "    </tr>\n",
              "    <tr>\n",
              "      <th>61454</th>\n",
              "      <td>@JohnLloydTaylor</td>\n",
              "      <td>neutral</td>\n",
              "      <td>[]</td>\n",
              "    </tr>\n",
              "    <tr>\n",
              "      <th>61455</th>\n",
              "      <td>Happy Mothers Day  All my love</td>\n",
              "      <td>love</td>\n",
              "      <td>[happy, mother, day, love]</td>\n",
              "    </tr>\n",
              "    <tr>\n",
              "      <th>61456</th>\n",
              "      <td>Happy Mother's Day to all the mommies out ther...</td>\n",
              "      <td>love</td>\n",
              "      <td>[happy, motheris, day, mommy, woman, man, long...</td>\n",
              "    </tr>\n",
              "    <tr>\n",
              "      <th>61457</th>\n",
              "      <td>@niariley WASSUP BEAUTIFUL!!! FOLLOW ME!!  PEE...</td>\n",
              "      <td>happiness</td>\n",
              "      <td>[wassup, beautiful, follow, peep, new, hit, si...</td>\n",
              "    </tr>\n",
              "    <tr>\n",
              "      <th>61458</th>\n",
              "      <td>@mopedronin bullet train from tokyo    the gf ...</td>\n",
              "      <td>love</td>\n",
              "      <td>[bullet, train, tokyo, gf, visit, japan, since...</td>\n",
              "    </tr>\n",
              "  </tbody>\n",
              "</table>\n",
              "<p>61459 rows × 3 columns</p>\n",
              "</div>\n",
              "      <button class=\"colab-df-convert\" onclick=\"convertToInteractive('df-14f61de9-48b8-467f-8897-d15dce116630')\"\n",
              "              title=\"Convert this dataframe to an interactive table.\"\n",
              "              style=\"display:none;\">\n",
              "        \n",
              "  <svg xmlns=\"http://www.w3.org/2000/svg\" height=\"24px\"viewBox=\"0 0 24 24\"\n",
              "       width=\"24px\">\n",
              "    <path d=\"M0 0h24v24H0V0z\" fill=\"none\"/>\n",
              "    <path d=\"M18.56 5.44l.94 2.06.94-2.06 2.06-.94-2.06-.94-.94-2.06-.94 2.06-2.06.94zm-11 1L8.5 8.5l.94-2.06 2.06-.94-2.06-.94L8.5 2.5l-.94 2.06-2.06.94zm10 10l.94 2.06.94-2.06 2.06-.94-2.06-.94-.94-2.06-.94 2.06-2.06.94z\"/><path d=\"M17.41 7.96l-1.37-1.37c-.4-.4-.92-.59-1.43-.59-.52 0-1.04.2-1.43.59L10.3 9.45l-7.72 7.72c-.78.78-.78 2.05 0 2.83L4 21.41c.39.39.9.59 1.41.59.51 0 1.02-.2 1.41-.59l7.78-7.78 2.81-2.81c.8-.78.8-2.07 0-2.86zM5.41 20L4 18.59l7.72-7.72 1.47 1.35L5.41 20z\"/>\n",
              "  </svg>\n",
              "      </button>\n",
              "      \n",
              "  <style>\n",
              "    .colab-df-container {\n",
              "      display:flex;\n",
              "      flex-wrap:wrap;\n",
              "      gap: 12px;\n",
              "    }\n",
              "\n",
              "    .colab-df-convert {\n",
              "      background-color: #E8F0FE;\n",
              "      border: none;\n",
              "      border-radius: 50%;\n",
              "      cursor: pointer;\n",
              "      display: none;\n",
              "      fill: #1967D2;\n",
              "      height: 32px;\n",
              "      padding: 0 0 0 0;\n",
              "      width: 32px;\n",
              "    }\n",
              "\n",
              "    .colab-df-convert:hover {\n",
              "      background-color: #E2EBFA;\n",
              "      box-shadow: 0px 1px 2px rgba(60, 64, 67, 0.3), 0px 1px 3px 1px rgba(60, 64, 67, 0.15);\n",
              "      fill: #174EA6;\n",
              "    }\n",
              "\n",
              "    [theme=dark] .colab-df-convert {\n",
              "      background-color: #3B4455;\n",
              "      fill: #D2E3FC;\n",
              "    }\n",
              "\n",
              "    [theme=dark] .colab-df-convert:hover {\n",
              "      background-color: #434B5C;\n",
              "      box-shadow: 0px 1px 3px 1px rgba(0, 0, 0, 0.15);\n",
              "      filter: drop-shadow(0px 1px 2px rgba(0, 0, 0, 0.3));\n",
              "      fill: #FFFFFF;\n",
              "    }\n",
              "  </style>\n",
              "\n",
              "      <script>\n",
              "        const buttonEl =\n",
              "          document.querySelector('#df-14f61de9-48b8-467f-8897-d15dce116630 button.colab-df-convert');\n",
              "        buttonEl.style.display =\n",
              "          google.colab.kernel.accessAllowed ? 'block' : 'none';\n",
              "\n",
              "        async function convertToInteractive(key) {\n",
              "          const element = document.querySelector('#df-14f61de9-48b8-467f-8897-d15dce116630');\n",
              "          const dataTable =\n",
              "            await google.colab.kernel.invokeFunction('convertToInteractive',\n",
              "                                                     [key], {});\n",
              "          if (!dataTable) return;\n",
              "\n",
              "          const docLinkHtml = 'Like what you see? Visit the ' +\n",
              "            '<a target=\"_blank\" href=https://colab.research.google.com/notebooks/data_table.ipynb>data table notebook</a>'\n",
              "            + ' to learn more about interactive tables.';\n",
              "          element.innerHTML = '';\n",
              "          dataTable['output_type'] = 'display_data';\n",
              "          await google.colab.output.renderOutput(dataTable, element);\n",
              "          const docLink = document.createElement('div');\n",
              "          docLink.innerHTML = docLinkHtml;\n",
              "          element.appendChild(docLink);\n",
              "        }\n",
              "      </script>\n",
              "    </div>\n",
              "  </div>\n",
              "  "
            ]
          },
          "metadata": {},
          "execution_count": 12
        }
      ]
    },
    {
      "cell_type": "code",
      "source": [
        "le = LabelEncoder()\n",
        "final_dataset['Emotion'] = le.fit_transform(final_dataset['Emotion'])"
      ],
      "metadata": {
        "id": "xbgwZa7kK0Wz"
      },
      "execution_count": 13,
      "outputs": []
    },
    {
      "cell_type": "code",
      "source": [
        "## Training and Testing\n",
        "X = final_dataset['tokens']\n",
        "y = final_dataset['Emotion']\n",
        "\n",
        "# Train-test split\n",
        "X_train, X_test, y_train, y_test = train_test_split(X, y, test_size=0.25, random_state=42)"
      ],
      "metadata": {
        "id": "bzhDKC1BK2Zn"
      },
      "execution_count": 14,
      "outputs": []
    },
    {
      "cell_type": "code",
      "source": [
        "## Converting the textual data into numerical sequences and label encoding\n",
        "## output labels\n",
        "y_train = to_categorical(y_train.values)\n",
        "y_test = to_categorical(y_test.values)"
      ],
      "metadata": {
        "id": "PphdaXB-K46C"
      },
      "execution_count": 15,
      "outputs": []
    },
    {
      "cell_type": "code",
      "source": [
        "tokenizer = Tokenizer(num_words=10000)\n",
        "tokenizer.fit_on_texts(X)"
      ],
      "metadata": {
        "id": "eITExDfbLE3w"
      },
      "execution_count": 16,
      "outputs": []
    },
    {
      "cell_type": "code",
      "source": [
        "X_train = tokenizer.texts_to_sequences(X_train)\n",
        "X_test = tokenizer.texts_to_sequences(X_test)"
      ],
      "metadata": {
        "id": "NK08C1RkK7mk"
      },
      "execution_count": 17,
      "outputs": []
    },
    {
      "cell_type": "code",
      "source": [
        "vocab_size = len(tokenizer.word_index) + 1\n",
        "maxlen = 100"
      ],
      "metadata": {
        "id": "yFNwIhiSLH9M"
      },
      "execution_count": 18,
      "outputs": []
    },
    {
      "cell_type": "code",
      "source": [
        "X_train = tf.keras.preprocessing.sequence.pad_sequences(X_train, padding='post', maxlen=maxlen)\n",
        "X_test = tf.keras.preprocessing.sequence.pad_sequences(X_test, padding='post', maxlen=maxlen)\n"
      ],
      "metadata": {
        "id": "TwWCqO8jLLKU"
      },
      "execution_count": 19,
      "outputs": []
    },
    {
      "cell_type": "code",
      "source": [
        "## Use Glove embeddings to determine semantic relationships between related words\n",
        " \n",
        "from numpy import asarray, array, zeros\n",
        "\n",
        "embeddings_dict = dict()\n",
        "glove_file = open(r\"/content/sample_data/glove.6B.100d.txt\", encoding=\"utf8\")\n",
        "\n",
        "for line in glove_file:\n",
        "    records = line.split()\n",
        "    word = records[0]\n",
        "    vector_dimensions = asarray(records[1:], dtype='float32')\n",
        "    embeddings_dict[word] = vector_dimensions\n",
        "glove_file.close()\n",
        "\n",
        "embedding_matrix = np.zeros((vocab_size, maxlen))\n",
        "\n",
        "for word, index in tokenizer.word_index.items():\n",
        "    embedding_vector = embeddings_dict.get(word)\n",
        "    if embedding_vector is not None:\n",
        "        embedding_matrix[index] = embedding_vector"
      ],
      "metadata": {
        "id": "p1LXbuuiLOUv"
      },
      "execution_count": 20,
      "outputs": []
    },
    {
      "cell_type": "code",
      "source": [
        "X_train.shape[1]"
      ],
      "metadata": {
        "colab": {
          "base_uri": "https://localhost:8080/"
        },
        "id": "X1d_w7TGToci",
        "outputId": "6988b211-8029-43fb-910a-bb1e9c53c727"
      },
      "execution_count": 21,
      "outputs": [
        {
          "output_type": "execute_result",
          "data": {
            "text/plain": [
              "100"
            ]
          },
          "metadata": {},
          "execution_count": 21
        }
      ]
    },
    {
      "cell_type": "code",
      "source": [
        "!pip install -U numpy==1.18.5"
      ],
      "metadata": {
        "colab": {
          "base_uri": "https://localhost:8080/",
          "height": 398
        },
        "id": "OYu5eY1VUXV5",
        "outputId": "e04ba538-5f91-4817-90b6-8f619a2677c9"
      },
      "execution_count": 50,
      "outputs": [
        {
          "output_type": "stream",
          "name": "stdout",
          "text": [
            "Collecting numpy==1.18.5\n",
            "  Downloading numpy-1.18.5-cp37-cp37m-manylinux1_x86_64.whl (20.1 MB)\n",
            "\u001b[K     |████████████████████████████████| 20.1 MB 1.3 MB/s \n",
            "\u001b[?25hInstalling collected packages: numpy\n",
            "  Attempting uninstall: numpy\n",
            "    Found existing installation: numpy 1.21.6\n",
            "    Uninstalling numpy-1.21.6:\n",
            "      Successfully uninstalled numpy-1.21.6\n",
            "\u001b[31mERROR: pip's dependency resolver does not currently take into account all the packages that are installed. This behaviour is the source of the following dependency conflicts.\n",
            "tensorflow-probability 0.16.0 requires gast>=0.3.2, but you have gast 0.2.2 which is incompatible.\n",
            "tables 3.7.0 requires numpy>=1.19.0, but you have numpy 1.18.5 which is incompatible.\n",
            "kapre 0.3.7 requires tensorflow>=2.0.0, but you have tensorflow 1.15.0 which is incompatible.\n",
            "jaxlib 0.3.2+cuda11.cudnn805 requires numpy>=1.19, but you have numpy 1.18.5 which is incompatible.\n",
            "jax 0.3.4 requires numpy>=1.19, but you have numpy 1.18.5 which is incompatible.\n",
            "datascience 0.10.6 requires folium==0.2.1, but you have folium 0.8.3 which is incompatible.\n",
            "albumentations 0.1.12 requires imgaug<0.2.7,>=0.2.5, but you have imgaug 0.2.9 which is incompatible.\u001b[0m\n",
            "Successfully installed numpy-1.18.5\n"
          ]
        },
        {
          "output_type": "display_data",
          "data": {
            "application/vnd.colab-display-data+json": {
              "pip_warning": {
                "packages": [
                  "numpy"
                ]
              }
            }
          },
          "metadata": {}
        }
      ]
    },
    {
      "cell_type": "code",
      "source": [
        "## Model development : RNN, LSTM, BiLSTM\n",
        "model_rnn = Sequential([\n",
        "    Embedding(input_dim = vocab_size,\n",
        "              output_dim = maxlen,\n",
        "              input_length = X_train.shape[1],\n",
        "              weights = [embedding_matrix], trainable = False),\n",
        "    Dropout(0.2),\n",
        "    SimpleRNN(100),\n",
        "    Dropout(0.2),\n",
        "    Dense(100, activation='relu'),\n",
        "    Dense(15, activation='softmax')])\n",
        "\n",
        "model_rnn.summary()\n",
        "model_rnn.compile(loss = \"categorical_crossentropy\", optimizer = \"adam\", metrics = [\"accuracy\"])"
      ],
      "metadata": {
        "colab": {
          "base_uri": "https://localhost:8080/"
        },
        "id": "3dnZS6YsLTFO",
        "outputId": "9aaba8a7-421c-416a-8717-483cb0bcade9"
      },
      "execution_count": 30,
      "outputs": [
        {
          "output_type": "stream",
          "name": "stdout",
          "text": [
            "Model: \"sequential_5\"\n",
            "_________________________________________________________________\n",
            "Layer (type)                 Output Shape              Param #   \n",
            "=================================================================\n",
            "embedding_5 (Embedding)      (None, 100, 100)          4130600   \n",
            "_________________________________________________________________\n",
            "dropout_13 (Dropout)         (None, 100, 100)          0         \n",
            "_________________________________________________________________\n",
            "simple_rnn_2 (SimpleRNN)     (None, 100)               20100     \n",
            "_________________________________________________________________\n",
            "dropout_14 (Dropout)         (None, 100)               0         \n",
            "_________________________________________________________________\n",
            "dense_10 (Dense)             (None, 100)               10100     \n",
            "_________________________________________________________________\n",
            "dense_11 (Dense)             (None, 15)                1515      \n",
            "=================================================================\n",
            "Total params: 4,162,315\n",
            "Trainable params: 31,715\n",
            "Non-trainable params: 4,130,600\n",
            "_________________________________________________________________\n"
          ]
        }
      ]
    },
    {
      "cell_type": "code",
      "source": [
        "model_lstm = Sequential()\n",
        "model_lstm.add(Embedding(input_dim = vocab_size,\n",
        "                         output_dim = maxlen,\n",
        "                         input_length = X_train.shape[1],\n",
        "                         weights=[embedding_matrix], trainable = False))\n",
        "model_lstm.add(Dropout(0.2))\n",
        "model_lstm.add(LSTM(100, return_sequences=True))\n",
        "model_lstm.add(Dropout(0.2))\n",
        "model_lstm.add(LSTM(100, return_sequences=True))\n",
        "model_lstm.add(Dropout(0.2))\n",
        "model_lstm.add(LSTM(100, return_sequences=False))\n",
        "model_lstm.add(Dense(100, activation='relu'))\n",
        "model_lstm.add(Dense(15, activation='softmax'))\n",
        "\n",
        "model_lstm.summary()\n",
        "model_lstm.compile(loss = \"categorical_crossentropy\", optimizer = \"adam\", metrics = [\"accuracy\"])"
      ],
      "metadata": {
        "colab": {
          "base_uri": "https://localhost:8080/"
        },
        "id": "eX8L1g2eLVpH",
        "outputId": "4151c080-495b-444f-bad6-14c291001c8b"
      },
      "execution_count": 37,
      "outputs": [
        {
          "output_type": "stream",
          "name": "stdout",
          "text": [
            "Model: \"sequential_9\"\n",
            "_________________________________________________________________\n",
            "Layer (type)                 Output Shape              Param #   \n",
            "=================================================================\n",
            "embedding_9 (Embedding)      (None, 100, 100)          4130600   \n",
            "_________________________________________________________________\n",
            "dropout_24 (Dropout)         (None, 100, 100)          0         \n",
            "_________________________________________________________________\n",
            "lstm_15 (LSTM)               (None, 100, 100)          80400     \n",
            "_________________________________________________________________\n",
            "dropout_25 (Dropout)         (None, 100, 100)          0         \n",
            "_________________________________________________________________\n",
            "lstm_16 (LSTM)               (None, 100, 100)          80400     \n",
            "_________________________________________________________________\n",
            "dropout_26 (Dropout)         (None, 100, 100)          0         \n",
            "_________________________________________________________________\n",
            "lstm_17 (LSTM)               (None, 100)               80400     \n",
            "_________________________________________________________________\n",
            "dense_17 (Dense)             (None, 100)               10100     \n",
            "_________________________________________________________________\n",
            "dense_18 (Dense)             (None, 15)                1515      \n",
            "=================================================================\n",
            "Total params: 4,383,415\n",
            "Trainable params: 252,815\n",
            "Non-trainable params: 4,130,600\n",
            "_________________________________________________________________\n"
          ]
        }
      ]
    },
    {
      "cell_type": "code",
      "source": [
        "model_bilstm = Sequential()\n",
        "model_bilstm.add(Embedding(input_dim = vocab_size,\n",
        "                         output_dim = maxlen,\n",
        "                         input_length = X_train.shape[1],\n",
        "                         weights=[embedding_matrix], trainable = False))\n",
        "model_bilstm.add(Dropout(0.2))\n",
        "model_bilstm.add(Bidirectional(LSTM(150, return_sequences = True)))\n",
        "model_bilstm.add(Dropout(0.2))\n",
        "model_bilstm.add(Bidirectional(LSTM(150, return_sequences = True)))\n",
        "model_bilstm.add(Dropout(0.2))\n",
        "model_bilstm.add(Bidirectional(LSTM(150, return_sequences = False)))\n",
        "model_bilstm.add(Dense(15, activation='softmax'))\n",
        "\n",
        "model_bilstm.summary()\n",
        "model_bilstm.compile(loss = \"categorical_crossentropy\", optimizer = \"adam\", metrics = [\"accuracy\"])"
      ],
      "metadata": {
        "colab": {
          "base_uri": "https://localhost:8080/"
        },
        "id": "GyL-jnXRLYIk",
        "outputId": "3eccbcf5-5cbf-4f47-ff02-2d6b5b0da26e"
      },
      "execution_count": 35,
      "outputs": [
        {
          "output_type": "stream",
          "name": "stdout",
          "text": [
            "Model: \"sequential_8\"\n",
            "_________________________________________________________________\n",
            "Layer (type)                 Output Shape              Param #   \n",
            "=================================================================\n",
            "embedding_8 (Embedding)      (None, 100, 100)          4130600   \n",
            "_________________________________________________________________\n",
            "dropout_21 (Dropout)         (None, 100, 100)          0         \n",
            "_________________________________________________________________\n",
            "bidirectional_8 (Bidirection (None, 100, 300)          301200    \n",
            "_________________________________________________________________\n",
            "dropout_22 (Dropout)         (None, 100, 300)          0         \n",
            "_________________________________________________________________\n",
            "bidirectional_9 (Bidirection (None, 100, 300)          541200    \n",
            "_________________________________________________________________\n",
            "dropout_23 (Dropout)         (None, 100, 300)          0         \n",
            "_________________________________________________________________\n",
            "bidirectional_10 (Bidirectio (None, 300)               541200    \n",
            "_________________________________________________________________\n",
            "dense_16 (Dense)             (None, 15)                4515      \n",
            "=================================================================\n",
            "Total params: 5,518,715\n",
            "Trainable params: 1,388,115\n",
            "Non-trainable params: 4,130,600\n",
            "_________________________________________________________________\n"
          ]
        }
      ]
    },
    {
      "cell_type": "code",
      "source": [
        "model_bilstm_new = Sequential()\n",
        "model_bilstm_new.add(Embedding(input_dim = vocab_size,\n",
        "                         output_dim = maxlen,\n",
        "                         input_length = X_train.shape[1],\n",
        "                         weights=[embedding_matrix], trainable = False))\n",
        "model_bilstm_new.add(Dropout(0.2))\n",
        "model_bilstm_new.add(Bidirectional(LSTM(150, return_sequences = True)))\n",
        "model_bilstm_new.add(Dropout(0.2))\n",
        "model_bilstm_new.add(Bidirectional(LSTM(150, return_sequences = True)))\n",
        "model_bilstm_new.add(Dropout(0.2))\n",
        "model_bilstm_new.add(Bidirectional(LSTM(100, return_sequences = True)))\n",
        "model_bilstm_new.add(Dropout(0.2))\n",
        "model_bilstm_new.add(Bidirectional(LSTM(150, return_sequences = False)))\n",
        "model_bilstm_new.add(Dense(15, activation='softmax'))\n",
        "\n",
        "model_bilstm_new.summary()\n",
        "model_bilstm_new.compile(loss = \"categorical_crossentropy\", optimizer = \"adam\", metrics = [\"accuracy\"])"
      ],
      "metadata": {
        "id": "OVEPRyopYk2y"
      },
      "execution_count": null,
      "outputs": []
    },
    {
      "cell_type": "code",
      "source": [
        "from tensorflow.keras.callbacks import EarlyStopping, ModelCheckpoint\n",
        "\n",
        "es = EarlyStopping(monitor= 'val_loss', mode='min', verbose=1, patience=5)\n",
        "# mc = ModelCheckpoint('./model.h5', monitor = 'val_accuracy', mode = 'max', verbose = 1, save_best_only = True)"
      ],
      "metadata": {
        "id": "v0X8GlgSLaS8"
      },
      "execution_count": 26,
      "outputs": []
    },
    {
      "cell_type": "code",
      "source": [
        "# Train RNN model\n",
        "history_rnn = model_rnn.fit(X_train, y_train, epochs=25, batch_size=128, validation_split=0.2, callbacks = [es])"
      ],
      "metadata": {
        "colab": {
          "base_uri": "https://localhost:8080/"
        },
        "id": "PNkn-ztkLc5E",
        "outputId": "2e0a7f8e-022a-4618-bcf6-f7f6977ce1b4"
      },
      "execution_count": 33,
      "outputs": [
        {
          "output_type": "stream",
          "name": "stdout",
          "text": [
            "Train on 36875 samples, validate on 9219 samples\n",
            "Epoch 1/25\n",
            "36875/36875 [==============================] - 24s 658us/sample - loss: 2.3994 - acc: 0.1793 - val_loss: 2.3634 - val_acc: 0.1891\n",
            "Epoch 2/25\n",
            "36875/36875 [==============================] - 24s 641us/sample - loss: 2.3839 - acc: 0.1851 - val_loss: 2.3600 - val_acc: 0.1891\n",
            "Epoch 3/25\n",
            "36875/36875 [==============================] - 23s 616us/sample - loss: 2.3833 - acc: 0.1872 - val_loss: 2.3623 - val_acc: 0.1891\n",
            "Epoch 4/25\n",
            "36875/36875 [==============================] - 22s 609us/sample - loss: 2.3812 - acc: 0.1873 - val_loss: 2.3615 - val_acc: 0.1891\n",
            "Epoch 5/25\n",
            "36875/36875 [==============================] - 23s 610us/sample - loss: 2.3811 - acc: 0.1871 - val_loss: 2.3602 - val_acc: 0.1891\n",
            "Epoch 6/25\n",
            "36875/36875 [==============================] - 23s 611us/sample - loss: 2.3798 - acc: 0.1871 - val_loss: 2.3608 - val_acc: 0.1891\n",
            "Epoch 7/25\n",
            "36875/36875 [==============================] - 23s 632us/sample - loss: 2.3802 - acc: 0.1870 - val_loss: 2.3594 - val_acc: 0.1891\n",
            "Epoch 8/25\n",
            "36875/36875 [==============================] - 23s 611us/sample - loss: 2.3799 - acc: 0.1871 - val_loss: 2.3608 - val_acc: 0.1891\n",
            "Epoch 9/25\n",
            "36875/36875 [==============================] - 23s 614us/sample - loss: 2.4098 - acc: 0.1740 - val_loss: 2.3633 - val_acc: 0.1869\n",
            "Epoch 10/25\n",
            "36875/36875 [==============================] - 22s 607us/sample - loss: 2.3796 - acc: 0.1842 - val_loss: 2.3533 - val_acc: 0.1877\n",
            "Epoch 11/25\n",
            "36875/36875 [==============================] - 22s 607us/sample - loss: 2.3744 - acc: 0.1852 - val_loss: 2.3499 - val_acc: 0.1871\n",
            "Epoch 12/25\n",
            "36875/36875 [==============================] - 23s 626us/sample - loss: 2.3712 - acc: 0.1856 - val_loss: 2.3497 - val_acc: 0.1872\n",
            "Epoch 13/25\n",
            "36875/36875 [==============================] - 23s 613us/sample - loss: 2.3683 - acc: 0.1877 - val_loss: 2.3508 - val_acc: 0.1878\n",
            "Epoch 14/25\n",
            "36875/36875 [==============================] - 23s 614us/sample - loss: 2.3678 - acc: 0.1867 - val_loss: 2.3508 - val_acc: 0.1869\n",
            "Epoch 15/25\n",
            "36875/36875 [==============================] - 23s 615us/sample - loss: 2.3673 - acc: 0.1878 - val_loss: 2.3432 - val_acc: 0.1873\n",
            "Epoch 16/25\n",
            "36875/36875 [==============================] - 23s 616us/sample - loss: 2.3665 - acc: 0.1875 - val_loss: 2.3459 - val_acc: 0.1891\n",
            "Epoch 17/25\n",
            "36875/36875 [==============================] - 23s 613us/sample - loss: 2.3657 - acc: 0.1874 - val_loss: 2.3451 - val_acc: 0.1891\n",
            "Epoch 18/25\n",
            "36875/36875 [==============================] - 23s 612us/sample - loss: 2.3656 - acc: 0.1871 - val_loss: 2.3465 - val_acc: 0.1868\n",
            "Epoch 19/25\n",
            "36875/36875 [==============================] - 23s 611us/sample - loss: 2.3637 - acc: 0.1868 - val_loss: 2.3460 - val_acc: 0.1869\n",
            "Epoch 20/25\n",
            "36875/36875 [==============================] - 23s 615us/sample - loss: 2.3648 - acc: 0.1890 - val_loss: 2.3473 - val_acc: 0.1869\n",
            "Epoch 00020: early stopping\n"
          ]
        }
      ]
    },
    {
      "cell_type": "code",
      "source": [
        "# Train lstm model\n",
        "history_lstm = model_lstm.fit(X_train, y_train, epochs=25, batch_size=128, validation_split=0.2, callbacks = [es])"
      ],
      "metadata": {
        "colab": {
          "base_uri": "https://localhost:8080/"
        },
        "id": "iS_Mh1TWLfQu",
        "outputId": "fc4ece00-3632-4a20-c4e5-ed037e24cbd5"
      },
      "execution_count": 38,
      "outputs": [
        {
          "output_type": "stream",
          "name": "stdout",
          "text": [
            "WARNING:tensorflow:From /usr/local/lib/python3.7/dist-packages/tensorflow_core/python/ops/math_grad.py:1424: where (from tensorflow.python.ops.array_ops) is deprecated and will be removed in a future version.\n",
            "Instructions for updating:\n",
            "Use tf.where in 2.0, which has the same broadcast rule as np.where\n",
            "Train on 36875 samples, validate on 9219 samples\n",
            "Epoch 1/25\n",
            "36875/36875 [==============================] - 280s 8ms/sample - loss: 2.3963 - acc: 0.1859 - val_loss: 2.3685 - val_acc: 0.1891\n",
            "Epoch 2/25\n",
            "36875/36875 [==============================] - 277s 8ms/sample - loss: 2.3809 - acc: 0.1871 - val_loss: 2.3580 - val_acc: 0.1891\n",
            "Epoch 3/25\n",
            "36875/36875 [==============================] - 277s 8ms/sample - loss: 2.3800 - acc: 0.1871 - val_loss: 2.3606 - val_acc: 0.1891\n",
            "Epoch 4/25\n",
            "36875/36875 [==============================] - 277s 8ms/sample - loss: 2.3794 - acc: 0.1871 - val_loss: 2.3606 - val_acc: 0.1891\n",
            "Epoch 5/25\n",
            "36875/36875 [==============================] - 277s 8ms/sample - loss: 2.3793 - acc: 0.1871 - val_loss: 2.3601 - val_acc: 0.1891\n",
            "Epoch 6/25\n",
            "36875/36875 [==============================] - 282s 8ms/sample - loss: 2.3785 - acc: 0.1871 - val_loss: 2.3613 - val_acc: 0.1891\n",
            "Epoch 7/25\n",
            "36875/36875 [==============================] - 277s 8ms/sample - loss: 2.3792 - acc: 0.1871 - val_loss: 2.3587 - val_acc: 0.1891\n",
            "Epoch 00007: early stopping\n"
          ]
        }
      ]
    },
    {
      "cell_type": "code",
      "source": [
        "# Train Bilstm model\n",
        "history_bilstm = model_bilstm.fit(X_train, y_train, epochs=25, batch_size=128, validation_split=0.2, callbacks = [es])"
      ],
      "metadata": {
        "colab": {
          "base_uri": "https://localhost:8080/"
        },
        "id": "Wb5XOnJILfV9",
        "outputId": "ace9fabc-7f98-4044-d311-30737d83e4d1"
      },
      "execution_count": 39,
      "outputs": [
        {
          "output_type": "stream",
          "name": "stdout",
          "text": [
            "Train on 36875 samples, validate on 9219 samples\n",
            "Epoch 1/25\n",
            "36875/36875 [==============================] - 1634s 44ms/sample - loss: 1.9367 - acc: 0.3325 - val_loss: 1.7704 - val_acc: 0.4008\n",
            "Epoch 2/25\n",
            "36875/36875 [==============================] - 1624s 44ms/sample - loss: 1.7271 - acc: 0.4138 - val_loss: 1.6345 - val_acc: 0.4478\n",
            "Epoch 3/25\n",
            "36875/36875 [==============================] - 1614s 44ms/sample - loss: 1.6159 - acc: 0.4545 - val_loss: 1.5325 - val_acc: 0.4836\n",
            "Epoch 4/25\n",
            "36875/36875 [==============================] - 1649s 45ms/sample - loss: 1.5402 - acc: 0.4805 - val_loss: 1.4760 - val_acc: 0.5030\n",
            "Epoch 5/25\n",
            "36875/36875 [==============================] - 1639s 44ms/sample - loss: 1.4848 - acc: 0.4982 - val_loss: 1.4483 - val_acc: 0.5120\n",
            "Epoch 6/25\n",
            "36875/36875 [==============================] - 1612s 44ms/sample - loss: 1.4358 - acc: 0.5134 - val_loss: 1.4369 - val_acc: 0.5158\n",
            "Epoch 7/25\n",
            "36875/36875 [==============================] - 1629s 44ms/sample - loss: 1.3950 - acc: 0.5261 - val_loss: 1.4132 - val_acc: 0.5222\n",
            "Epoch 8/25\n",
            "36875/36875 [==============================] - 1640s 44ms/sample - loss: 1.3624 - acc: 0.5368 - val_loss: 1.4148 - val_acc: 0.5249\n",
            "Epoch 9/25\n",
            "36875/36875 [==============================] - 1624s 44ms/sample - loss: 1.3266 - acc: 0.5469 - val_loss: 1.4101 - val_acc: 0.5261\n",
            "Epoch 10/25\n",
            "36875/36875 [==============================] - 1651s 45ms/sample - loss: 1.3002 - acc: 0.5568 - val_loss: 1.3952 - val_acc: 0.5287\n",
            "Epoch 11/25\n",
            "36875/36875 [==============================] - 1646s 45ms/sample - loss: 1.2711 - acc: 0.5668 - val_loss: 1.4092 - val_acc: 0.5286\n",
            "Epoch 12/25\n",
            "36875/36875 [==============================] - 1625s 44ms/sample - loss: 1.2381 - acc: 0.5786 - val_loss: 1.4075 - val_acc: 0.5283\n",
            "Epoch 13/25\n",
            "36875/36875 [==============================] - 1618s 44ms/sample - loss: 1.2081 - acc: 0.5897 - val_loss: 1.4544 - val_acc: 0.5229\n",
            "Epoch 14/25\n",
            "36875/36875 [==============================] - 1619s 44ms/sample - loss: 1.1772 - acc: 0.5993 - val_loss: 1.4439 - val_acc: 0.5303\n",
            "Epoch 15/25\n",
            "36875/36875 [==============================] - 1621s 44ms/sample - loss: 1.1442 - acc: 0.6115 - val_loss: 1.4718 - val_acc: 0.5176\n",
            "Epoch 00015: early stopping\n"
          ]
        }
      ]
    },
    {
      "cell_type": "code",
      "source": [
        "history_bilstm_new = model_bilstm.fit(X_train, y_train, epochs=25, batch_size=128, validation_split=0.2, callbacks = [es])"
      ],
      "metadata": {
        "id": "hDG1iPyOYNhq"
      },
      "execution_count": null,
      "outputs": []
    },
    {
      "cell_type": "code",
      "source": [
        "model_bilstm.save(\"bilstm_model\")"
      ],
      "metadata": {
        "id": "8l-1rY4FXTuM"
      },
      "execution_count": 55,
      "outputs": []
    },
    {
      "cell_type": "code",
      "source": [
        "## Testing \n",
        "y_pred_rnn = np.argmax(model_rnn.predict(X_test), axis=1)\n",
        "y_true_rnn = np.argmax(y_test, axis=1)\n",
        "print(\"RNN Predicted: \", metrics.classification_report(y_true_rnn, y_pred_rnn))"
      ],
      "metadata": {
        "colab": {
          "base_uri": "https://localhost:8080/"
        },
        "id": "aRq9qjkMLfZ3",
        "outputId": "509cd125-0d62-4031-e258-5566b0813359"
      },
      "execution_count": 41,
      "outputs": [
        {
          "output_type": "stream",
          "name": "stdout",
          "text": [
            "RNN Predicted:                precision    recall  f1-score   support\n",
            "\n",
            "           0       0.00      0.00      0.00       772\n",
            "           1       0.00      0.00      0.00        42\n",
            "           2       0.00      0.00      0.00       210\n",
            "           3       0.00      0.00      0.00       206\n",
            "           4       0.00      0.00      0.00       662\n",
            "           5       0.00      0.00      0.00       450\n",
            "           6       0.00      0.00      0.00      1322\n",
            "           7       0.00      0.00      0.00      1773\n",
            "           8       0.00      0.00      0.00       343\n",
            "           9       0.00      0.00      0.00      1394\n",
            "          10       0.15      0.13      0.14      2091\n",
            "          11       0.00      0.00      0.00       415\n",
            "          12       0.19      0.88      0.31      2786\n",
            "          13       0.00      0.00      0.00       765\n",
            "          14       0.22      0.04      0.06      2134\n",
            "\n",
            "    accuracy                           0.18     15365\n",
            "   macro avg       0.04      0.07      0.03     15365\n",
            "weighted avg       0.09      0.18      0.08     15365\n",
            "\n"
          ]
        },
        {
          "output_type": "stream",
          "name": "stderr",
          "text": [
            "/usr/local/lib/python3.7/dist-packages/sklearn/metrics/_classification.py:1318: UndefinedMetricWarning: Precision and F-score are ill-defined and being set to 0.0 in labels with no predicted samples. Use `zero_division` parameter to control this behavior.\n",
            "  _warn_prf(average, modifier, msg_start, len(result))\n",
            "/usr/local/lib/python3.7/dist-packages/sklearn/metrics/_classification.py:1318: UndefinedMetricWarning: Precision and F-score are ill-defined and being set to 0.0 in labels with no predicted samples. Use `zero_division` parameter to control this behavior.\n",
            "  _warn_prf(average, modifier, msg_start, len(result))\n",
            "/usr/local/lib/python3.7/dist-packages/sklearn/metrics/_classification.py:1318: UndefinedMetricWarning: Precision and F-score are ill-defined and being set to 0.0 in labels with no predicted samples. Use `zero_division` parameter to control this behavior.\n",
            "  _warn_prf(average, modifier, msg_start, len(result))\n"
          ]
        }
      ]
    },
    {
      "cell_type": "code",
      "source": [
        "y_pred_lstm = np.argmax(model_lstm.predict(X_test), axis=1)\n",
        "y_true_lstm = np.argmax(y_test, axis=1)\n",
        "print(\"LSTM Predicted: \", metrics.classification_report(y_true_lstm, y_pred_lstm))"
      ],
      "metadata": {
        "colab": {
          "base_uri": "https://localhost:8080/"
        },
        "id": "6r_NM-Q-LfhZ",
        "outputId": "79c2696b-07b0-4777-92fc-c769f9c1fca6"
      },
      "execution_count": 42,
      "outputs": [
        {
          "output_type": "stream",
          "name": "stdout",
          "text": [
            "LSTM Predicted:                precision    recall  f1-score   support\n",
            "\n",
            "           0       0.00      0.00      0.00       772\n",
            "           1       0.00      0.00      0.00        42\n",
            "           2       0.00      0.00      0.00       210\n",
            "           3       0.00      0.00      0.00       206\n",
            "           4       0.00      0.00      0.00       662\n",
            "           5       0.00      0.00      0.00       450\n",
            "           6       0.00      0.00      0.00      1322\n",
            "           7       0.00      0.00      0.00      1773\n",
            "           8       0.00      0.00      0.00       343\n",
            "           9       0.00      0.00      0.00      1394\n",
            "          10       0.00      0.00      0.00      2091\n",
            "          11       0.00      0.00      0.00       415\n",
            "          12       0.18      1.00      0.31      2786\n",
            "          13       0.00      0.00      0.00       765\n",
            "          14       0.00      0.00      0.00      2134\n",
            "\n",
            "    accuracy                           0.18     15365\n",
            "   macro avg       0.01      0.07      0.02     15365\n",
            "weighted avg       0.03      0.18      0.06     15365\n",
            "\n"
          ]
        },
        {
          "output_type": "stream",
          "name": "stderr",
          "text": [
            "/usr/local/lib/python3.7/dist-packages/sklearn/metrics/_classification.py:1318: UndefinedMetricWarning: Precision and F-score are ill-defined and being set to 0.0 in labels with no predicted samples. Use `zero_division` parameter to control this behavior.\n",
            "  _warn_prf(average, modifier, msg_start, len(result))\n",
            "/usr/local/lib/python3.7/dist-packages/sklearn/metrics/_classification.py:1318: UndefinedMetricWarning: Precision and F-score are ill-defined and being set to 0.0 in labels with no predicted samples. Use `zero_division` parameter to control this behavior.\n",
            "  _warn_prf(average, modifier, msg_start, len(result))\n",
            "/usr/local/lib/python3.7/dist-packages/sklearn/metrics/_classification.py:1318: UndefinedMetricWarning: Precision and F-score are ill-defined and being set to 0.0 in labels with no predicted samples. Use `zero_division` parameter to control this behavior.\n",
            "  _warn_prf(average, modifier, msg_start, len(result))\n"
          ]
        }
      ]
    },
    {
      "cell_type": "code",
      "source": [
        "y_pred_bilstm = np.argmax(model_bilstm.predict(X_test), axis=1)\n",
        "y_true_bilstm = np.argmax(y_test, axis=1)\n",
        "print(\"Bi-LSTM Predicted: \", metrics.classification_report(y_true_bilstm, y_pred_bilstm))"
      ],
      "metadata": {
        "colab": {
          "base_uri": "https://localhost:8080/"
        },
        "id": "ZtgNJZaELfu6",
        "outputId": "627c079a-561b-4d42-d674-c5fb9bb2db8d"
      },
      "execution_count": 43,
      "outputs": [
        {
          "output_type": "stream",
          "name": "stdout",
          "text": [
            "Bi-LSTM Predicted:                precision    recall  f1-score   support\n",
            "\n",
            "           0       0.90      0.74      0.81       772\n",
            "           1       0.00      0.00      0.00        42\n",
            "           2       0.00      0.00      0.00       210\n",
            "           3       0.00      0.00      0.00       206\n",
            "           4       0.86      0.82      0.84       662\n",
            "           5       0.09      0.05      0.06       450\n",
            "           6       0.29      0.44      0.35      1322\n",
            "           7       0.91      0.88      0.89      1773\n",
            "           8       0.34      0.25      0.29       343\n",
            "           9       0.56      0.52      0.54      1394\n",
            "          10       0.34      0.51      0.41      2091\n",
            "          11       0.14      0.03      0.04       415\n",
            "          12       0.63      0.65      0.64      2786\n",
            "          13       0.49      0.24      0.32       765\n",
            "          14       0.34      0.36      0.35      2134\n",
            "\n",
            "    accuracy                           0.51     15365\n",
            "   macro avg       0.39      0.36      0.37     15365\n",
            "weighted avg       0.51      0.51      0.50     15365\n",
            "\n"
          ]
        },
        {
          "output_type": "stream",
          "name": "stderr",
          "text": [
            "/usr/local/lib/python3.7/dist-packages/sklearn/metrics/_classification.py:1318: UndefinedMetricWarning: Precision and F-score are ill-defined and being set to 0.0 in labels with no predicted samples. Use `zero_division` parameter to control this behavior.\n",
            "  _warn_prf(average, modifier, msg_start, len(result))\n",
            "/usr/local/lib/python3.7/dist-packages/sklearn/metrics/_classification.py:1318: UndefinedMetricWarning: Precision and F-score are ill-defined and being set to 0.0 in labels with no predicted samples. Use `zero_division` parameter to control this behavior.\n",
            "  _warn_prf(average, modifier, msg_start, len(result))\n",
            "/usr/local/lib/python3.7/dist-packages/sklearn/metrics/_classification.py:1318: UndefinedMetricWarning: Precision and F-score are ill-defined and being set to 0.0 in labels with no predicted samples. Use `zero_division` parameter to control this behavior.\n",
            "  _warn_prf(average, modifier, msg_start, len(result))\n"
          ]
        }
      ]
    },
    {
      "cell_type": "code",
      "source": [
        "model_rnn.metrics_names"
      ],
      "metadata": {
        "colab": {
          "base_uri": "https://localhost:8080/"
        },
        "id": "bVwajG3dP7TY",
        "outputId": "f0463dd0-2a7d-4faa-95fb-e1f7419a5c11"
      },
      "execution_count": 46,
      "outputs": [
        {
          "output_type": "execute_result",
          "data": {
            "text/plain": [
              "['loss', 'acc']"
            ]
          },
          "metadata": {},
          "execution_count": 46
        }
      ]
    },
    {
      "cell_type": "code",
      "source": [
        "## Plotting\n",
        "plt.plot(history_rnn.history[\"acc\"],c='b',label='train accuracy')\n",
        "plt.plot(history_rnn.history[\"val_acc\"],c='r',label='validation accuracy')\n",
        "plt.legend(loc='lower right')\n",
        "plt.show()"
      ],
      "metadata": {
        "colab": {
          "base_uri": "https://localhost:8080/",
          "height": 265
        },
        "id": "X2wXBzo-LuVR",
        "outputId": "ffa81109-c6e2-4a40-fb68-c09346422aed"
      },
      "execution_count": 47,
      "outputs": [
        {
          "output_type": "display_data",
          "data": {
            "text/plain": [
              "<Figure size 432x288 with 1 Axes>"
            ],
            "image/png": "[encoded data removed]"
          },
          "metadata": {
            "needs_background": "light"
          }
        }
      ]
    },
    {
      "cell_type": "code",
      "source": [
        "plt.plot(history_lstm.history[\"acc\"],c='b',label='train accuracy')\n",
        "plt.plot(history_lstm.history[\"val_acc\"],c='r',label='validation accuracy')\n",
        "plt.legend(loc='lower right')\n",
        "plt.show()"
      ],
      "metadata": {
        "colab": {
          "base_uri": "https://localhost:8080/",
          "height": 265
        },
        "id": "bEl6q6JKLuRg",
        "outputId": "5aff5685-cc7e-4366-9b94-7c4ced0bb268"
      },
      "execution_count": 48,
      "outputs": [
        {
          "output_type": "display_data",
          "data": {
            "text/plain": [
              "<Figure size 432x288 with 1 Axes>"
            ],
            "image/png": "[encoded data removed]"
          },
          "metadata": {
            "needs_background": "light"
          }
        }
      ]
    },
    {
      "cell_type": "code",
      "source": [
        "plt.plot(history_bilstm.history[\"acc\"],c='b',label='train accuracy')\n",
        "plt.plot(history_bilstm.history[\"val_acc\"],c='r',label='validation accuracy')\n",
        "plt.legend(loc='lower right')\n",
        "plt.show()"
      ],
      "metadata": {
        "colab": {
          "base_uri": "https://localhost:8080/",
          "height": 265
        },
        "id": "9Y5NOjZzLuOR",
        "outputId": "63999812-3e26-4f25-94e4-16e03301e3a6"
      },
      "execution_count": 49,
      "outputs": [
        {
          "output_type": "display_data",
          "data": {
            "text/plain": [
              "<Figure size 432x288 with 1 Axes>"
            ],
            "image/png": "[encoded data removed]"
          },
          "metadata": {
            "needs_background": "light"
          }
        }
      ]
    },
    {
      "cell_type": "code",
      "source": [
        ""
      ],
      "metadata": {
        "id": "NjLFsZWzLuJD"
      },
      "execution_count": null,
      "outputs": []
    }
  ]
}